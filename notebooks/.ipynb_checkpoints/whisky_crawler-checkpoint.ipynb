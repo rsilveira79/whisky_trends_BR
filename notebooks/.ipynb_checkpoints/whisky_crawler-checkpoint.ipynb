{
  "nbformat": 4,
  "nbformat_minor": 0,
  "metadata": {
    "colab": {
      "name": "whisky_crawler.ipynb",
      "provenance": [],
      "collapsed_sections": []
    },
    "kernelspec": {
      "name": "python3",
      "display_name": "Python 3"
    },
    "language_info": {
      "name": "python"
    }
  },
  "cells": [
    {
      "cell_type": "code",
      "source": [
        "# !pip install altair vega_datasets notebook vega\n",
        "# !pip install dppy\n",
        "# !pip install flair"
      ],
      "metadata": {
        "id": "2IbJ2iJc0bKK"
      },
      "execution_count": 1,
      "outputs": []
    },
    {
      "cell_type": "code",
      "source": [
        "import requests\n",
        "import urllib.request\n",
        "import time\n",
        "from bs4 import BeautifulSoup\n",
        "from string import punctuation\n",
        "import numpy as np\n",
        "import pandas as pd\n",
        "import pickle, re\n",
        "from typing import List, Dict, Any"
      ],
      "metadata": {
        "id": "eQmhebNvzyzG"
      },
      "execution_count": 2,
      "outputs": []
    },
    {
      "cell_type": "code",
      "execution_count": 3,
      "metadata": {
        "id": "m1khRzNJzvFY"
      },
      "outputs": [],
      "source": [
        "url = \"https://br.thebar.com/combo-black-label-6-un-6-jw-black-label-750ml-grekit1717-6/p\"\n",
        "url = \"https://br.thebar.com/bebidas/whisky\"\n",
        "#url_jonny = \"https://br.thebar.com/combo-johnnie-walker-red-premium--6-jw-red-label-1l-grekit1589-6/p\"\n",
        "url = \"https://br.thebar.com/bebidas/whisky?page=1\"\n",
        "url = \"https://br.thebar.com/combo-whisky-singleton-dufftown-12-anos-750ml-2-unidades-kit_748261_v97/p\""
      ]
    },
    {
      "cell_type": "code",
      "source": [
        "def get_meta_info(product: str, store: str) -> Dict:\n",
        "  sku = None\n",
        "  brand = None\n",
        "  description = None\n",
        "  availability = None\n",
        "  price_currency = None\n",
        "  price_amount = None\n",
        "\n",
        "  if all_products[product][store] is not None:\n",
        "    response = requests.get(all_products[product][store])\n",
        "    soup = BeautifulSoup(response.text, \"html.parser\")\n",
        "\n",
        "    if store==\"the_bar\":\n",
        "      sku = soup.find(\"meta\", property=\"product:sku\")\n",
        "      brand = soup.find(\"meta\", property=\"product:brand\")\n",
        "      price_currency = soup.find(\"meta\", property=\"product:price:currency\")\n",
        "      availability = soup.find(\"meta\", property=\"product:availability\")\n",
        "      price_amount = soup.find(\"meta\", property=\"product:price:amount\")\n",
        "\n",
        "      sku = sku['content'] if sku else None\n",
        "      brand = brand['content'] if brand else None\n",
        "      price_currency = price_currency['content'] if price_currency else None\n",
        "      availability = availability['content'] if availability else None\n",
        "      price_amount = float(price_amount['content']) if price_amount else None\n",
        "\n",
        "    elif store==\"casadabebida\":\n",
        "      sku = soup.find(itemprop=\"sku\").get_text()\n",
        "      brand = soup.find(itemprop=\"brand\").get_text().strip()\n",
        "\n",
        "      description = soup.find(\"meta\", property=\"og:title\")\n",
        "      description = description['content'] if description else None\n",
        "\n",
        "      price_currency = soup.find(itemprop=\"priceCurrency\").get(\"content\")\n",
        "      availability = soup.find(itemprop=\"availability\").get(\"content\").split(\"/\")[-1]\n",
        "      price_amount = float(soup.find(itemprop=\"price\").get_text())\n",
        "\n",
        "  infos = {\n",
        "      \"sku\": sku, \n",
        "      \"marca\": brand,\n",
        "      \"descricao\": description,\n",
        "      \"disponibilidade\": availability,\n",
        "      \"preco_moeda\": price_currency,\n",
        "      \"preco_valor\": price_amount\n",
        "    }\n",
        "  return infos\n"
      ],
      "metadata": {
        "id": "N2ZGMH5Czxig"
      },
      "execution_count": 149,
      "outputs": []
    },
    {
      "cell_type": "code",
      "source": [
        "all_products = {\n",
        "    \"singleton_12y\": {\n",
        "        \"the_bar\": \"https://br.thebar.com/whisky-singleton-of-dufftown-12-anos--750ml-gre30284/p\",\n",
        "        \"casadabebida\": \"https://www.casadabebida.com.br/whisky/singleton-12-anos-of-glen-ord-700-ml/\",\n",
        "    },\n",
        "    \"glenkinchie_12y\": {\n",
        "        \"the_bar\": \"https://br.thebar.com/whisky-glenkichie-12-anos--750ml-gre30252/p\",\n",
        "        \"casadabebida\": \"https://www.casadabebida.com.br/whisky/glenkinchie-12-anos-750-ml/\"\n",
        "    },\n",
        "    \"glenfiddich_12y\": {\n",
        "        \"the_bar\": None,\n",
        "        \"casadabebida\": \"https://www.casadabebida.com.br/whisky/single-malt/whisky-glenfiddich-12-anos/\"\n",
        "    },\n",
        "    \"talisker_10y\":  {\n",
        "        \"the_bar\": \"https://br.thebar.com/whisky-talisker-10-anos-750ml-gre30290/p\",\n",
        "        \"casadabebida\": \"https://www.casadabebida.com.br/whisky/talisker-10-anos-750-ml/\"\n",
        "    },\n",
        "    \"johnnie_green\": {\n",
        "        \"the_bar\": \"https://br.thebar.com/whisky-johnnie-walker-green-label--750ml-gre30263/p\",\n",
        "        \"casadabebida\": \"https://www.casadabebida.com.br/whisky/whisky-johnnie-walker-green-label/\"\n",
        "    },\n",
        "    \"glenlivet_15y\": {\n",
        "        \"the_bar\": None,\n",
        "        \"casadabebida\": \"https://www.casadabebida.com.br/whisky/glenlivet-15-anos-750-ml/\"\n",
        "    },\n",
        "    \"laphroaig_10y\": {\n",
        "        \"the_bar\": None,\n",
        "        \"casadabebida\": \"https://www.casadabebida.com.br/whisky/whisky-laphroaig-10-anos/\"\n",
        "    },\n",
        "    \"macallan_sherryoak_12y\": {\n",
        "        \"the_bar\": None,\n",
        "        \"casadabebida\": \"https://www.casadabebida.com.br/whisky/macallan-sherry-oak-12-anos-700-ml/\"\n",
        "    },\n",
        "    \"macallan_18y\": {\n",
        "        \"the_bar\": None,\n",
        "        \"casadabebida\": \"https://www.casadabebida.com.br/whisky/whisky-the-macallan-18-anos/\"\n",
        "    }\n",
        "  }"
      ],
      "metadata": {
        "id": "Zd1IGKmeeop0"
      },
      "execution_count": 150,
      "outputs": []
    },
    {
      "cell_type": "code",
      "source": [
        "get_meta_info(\"glenkinchie_12y\", \"casadabebida\")"
      ],
      "metadata": {
        "colab": {
          "base_uri": "https://localhost:8080/"
        },
        "id": "NWBHoHbGfSoN",
        "outputId": "ca244ebc-c531-4349-aabd-9d84a0430c08"
      },
      "execution_count": 151,
      "outputs": [
        {
          "output_type": "execute_result",
          "data": {
            "text/plain": [
              "{'descricao': 'Whisky Glenkinchie 12 Anos 750 ml - Single Malt',\n",
              " 'disponibilidade': 'InStock',\n",
              " 'marca': 'Glenkinchie',\n",
              " 'preco_moeda': 'BRL',\n",
              " 'preco_valor': 351.41,\n",
              " 'sku': '873'}"
            ]
          },
          "metadata": {},
          "execution_count": 151
        }
      ]
    },
    {
      "cell_type": "code",
      "source": [
        "get_meta_info(\"glenkinchie_12y\", \"casadabebida\")"
      ],
      "metadata": {
        "colab": {
          "base_uri": "https://localhost:8080/"
        },
        "id": "9H9fU2ycetN4",
        "outputId": "857f9e34-ae8e-48d7-fda3-fe56ecf40cb6"
      },
      "execution_count": 152,
      "outputs": [
        {
          "output_type": "execute_result",
          "data": {
            "text/plain": [
              "{'descricao': 'Whisky Glenkinchie 12 Anos 750 ml - Single Malt',\n",
              " 'disponibilidade': 'InStock',\n",
              " 'marca': 'Glenkinchie',\n",
              " 'preco_moeda': 'BRL',\n",
              " 'preco_valor': 351.41,\n",
              " 'sku': '873'}"
            ]
          },
          "metadata": {},
          "execution_count": 152
        }
      ]
    },
    {
      "cell_type": "code",
      "source": [
        "get_meta_info(\"glenlivet_15y\", \"casadabebida\")"
      ],
      "metadata": {
        "colab": {
          "base_uri": "https://localhost:8080/"
        },
        "id": "b1SXY7Ek0bSu",
        "outputId": "9e6a188d-29ea-41a8-ca16-39ece3dbb2dc"
      },
      "execution_count": 153,
      "outputs": [
        {
          "output_type": "execute_result",
          "data": {
            "text/plain": [
              "{'descricao': 'Whisky Glenlivet 15 anos 750 ml',\n",
              " 'disponibilidade': 'InStock',\n",
              " 'marca': 'Glenlivet',\n",
              " 'preco_moeda': 'BRL',\n",
              " 'preco_valor': 379.91,\n",
              " 'sku': '1139'}"
            ]
          },
          "metadata": {},
          "execution_count": 153
        }
      ]
    },
    {
      "cell_type": "code",
      "source": [
        "get_meta_info(\"johnnie_green\", \"casadabebida\")"
      ],
      "metadata": {
        "colab": {
          "base_uri": "https://localhost:8080/"
        },
        "id": "udTdEqOXaSXc",
        "outputId": "15f8a947-a5ac-451b-eb4a-34f21eec2587"
      },
      "execution_count": 154,
      "outputs": [
        {
          "output_type": "execute_result",
          "data": {
            "text/plain": [
              "{'descricao': 'Whisky Johnnie Walker Green Label 750 ml',\n",
              " 'disponibilidade': 'InStock',\n",
              " 'marca': 'Johnnie Walker',\n",
              " 'preco_moeda': 'BRL',\n",
              " 'preco_valor': 379.91,\n",
              " 'sku': '15'}"
            ]
          },
          "metadata": {},
          "execution_count": 154
        }
      ]
    },
    {
      "cell_type": "code",
      "source": [
        "get_meta_info(\"talisker_10y\", \"casadabebida\")"
      ],
      "metadata": {
        "colab": {
          "base_uri": "https://localhost:8080/"
        },
        "id": "t1Jwxf5UddkU",
        "outputId": "314d6992-46e3-4f90-af84-8ec016f89211"
      },
      "execution_count": 155,
      "outputs": [
        {
          "output_type": "execute_result",
          "data": {
            "text/plain": [
              "{'descricao': 'Whisky Talisker 10 anos 750 ml',\n",
              " 'disponibilidade': 'InStock',\n",
              " 'marca': 'Talisker',\n",
              " 'preco_moeda': 'BRL',\n",
              " 'preco_valor': 379.91,\n",
              " 'sku': '872'}"
            ]
          },
          "metadata": {},
          "execution_count": 155
        }
      ]
    },
    {
      "cell_type": "code",
      "source": [
        "get_meta_info(\"laphroaig_10y\", \"casadabebida\")"
      ],
      "metadata": {
        "colab": {
          "base_uri": "https://localhost:8080/"
        },
        "id": "rioBL0_KeewJ",
        "outputId": "c3f2f5d8-e72e-47e0-e95b-125bcc98ad0b"
      },
      "execution_count": 156,
      "outputs": [
        {
          "output_type": "execute_result",
          "data": {
            "text/plain": [
              "{'descricao': 'Whisky Laphroaig 10 Anos 750 ml',\n",
              " 'disponibilidade': 'InStock',\n",
              " 'marca': 'Laphroaig',\n",
              " 'preco_moeda': 'BRL',\n",
              " 'preco_valor': 408.41,\n",
              " 'sku': '750'}"
            ]
          },
          "metadata": {},
          "execution_count": 156
        }
      ]
    },
    {
      "cell_type": "code",
      "source": [
        "data = [get_meta_info(x,'casadabebida') for x in all_products.keys()]"
      ],
      "metadata": {
        "id": "5GIslLuxeeO-"
      },
      "execution_count": 157,
      "outputs": []
    },
    {
      "cell_type": "code",
      "source": [
        "dataframe = pd.DataFrame(data=data, columns = [\"marca\", \"descricao\", \"disponibilidade\", \"preco_moeda\", \"preco_valor\"])\n",
        "dataframe"
      ],
      "metadata": {
        "colab": {
          "base_uri": "https://localhost:8080/",
          "height": 331
        },
        "id": "38haTTou1JNU",
        "outputId": "ca58f1c4-58a1-477b-a65d-80fd23e14a0f"
      },
      "execution_count": 159,
      "outputs": [
        {
          "output_type": "execute_result",
          "data": {
            "text/plain": [
              "            marca                                         descricao  \\\n",
              "0       Singleton          Whisky Singleton 12 Anos Dufftown 700 ml   \n",
              "1     Glenkinchie   Whisky Glenkinchie 12 Anos 750 ml - Single Malt   \n",
              "2     Glenfiddich                  Whisky Glenfiddich 12 anos 750ml   \n",
              "3        Talisker                    Whisky Talisker 10 anos 750 ml   \n",
              "4  Johnnie Walker          Whisky Johnnie Walker Green Label 750 ml   \n",
              "5       Glenlivet                   Whisky Glenlivet 15 anos 750 ml   \n",
              "6       Laphroaig                   Whisky Laphroaig 10 Anos 750 ml   \n",
              "7        Macallan         Whisky Macallan Sherry Oak 12 anos 700 ml   \n",
              "8        Macallan  Whisky The Macallan 18 anos - Double Cask 700 ml   \n",
              "\n",
              "  disponibilidade preco_moeda  preco_valor  \n",
              "0         InStock         BRL       189.91  \n",
              "1         InStock         BRL       351.41  \n",
              "2         InStock         BRL       284.91  \n",
              "3         InStock         BRL       379.91  \n",
              "4         InStock         BRL       379.91  \n",
              "5         InStock         BRL       379.91  \n",
              "6         InStock         BRL       408.41  \n",
              "7         InStock         BRL       906.21  \n",
              "8         InStock         BRL      3061.76  "
            ],
            "text/html": [
              "\n",
              "  <div id=\"df-acd341e8-d386-47e1-830b-1cde94f3aa8e\">\n",
              "    <div class=\"colab-df-container\">\n",
              "      <div>\n",
              "<style scoped>\n",
              "    .dataframe tbody tr th:only-of-type {\n",
              "        vertical-align: middle;\n",
              "    }\n",
              "\n",
              "    .dataframe tbody tr th {\n",
              "        vertical-align: top;\n",
              "    }\n",
              "\n",
              "    .dataframe thead th {\n",
              "        text-align: right;\n",
              "    }\n",
              "</style>\n",
              "<table border=\"1\" class=\"dataframe\">\n",
              "  <thead>\n",
              "    <tr style=\"text-align: right;\">\n",
              "      <th></th>\n",
              "      <th>marca</th>\n",
              "      <th>descricao</th>\n",
              "      <th>disponibilidade</th>\n",
              "      <th>preco_moeda</th>\n",
              "      <th>preco_valor</th>\n",
              "    </tr>\n",
              "  </thead>\n",
              "  <tbody>\n",
              "    <tr>\n",
              "      <th>0</th>\n",
              "      <td>Singleton</td>\n",
              "      <td>Whisky Singleton 12 Anos Dufftown 700 ml</td>\n",
              "      <td>InStock</td>\n",
              "      <td>BRL</td>\n",
              "      <td>189.91</td>\n",
              "    </tr>\n",
              "    <tr>\n",
              "      <th>1</th>\n",
              "      <td>Glenkinchie</td>\n",
              "      <td>Whisky Glenkinchie 12 Anos 750 ml - Single Malt</td>\n",
              "      <td>InStock</td>\n",
              "      <td>BRL</td>\n",
              "      <td>351.41</td>\n",
              "    </tr>\n",
              "    <tr>\n",
              "      <th>2</th>\n",
              "      <td>Glenfiddich</td>\n",
              "      <td>Whisky Glenfiddich 12 anos 750ml</td>\n",
              "      <td>InStock</td>\n",
              "      <td>BRL</td>\n",
              "      <td>284.91</td>\n",
              "    </tr>\n",
              "    <tr>\n",
              "      <th>3</th>\n",
              "      <td>Talisker</td>\n",
              "      <td>Whisky Talisker 10 anos 750 ml</td>\n",
              "      <td>InStock</td>\n",
              "      <td>BRL</td>\n",
              "      <td>379.91</td>\n",
              "    </tr>\n",
              "    <tr>\n",
              "      <th>4</th>\n",
              "      <td>Johnnie Walker</td>\n",
              "      <td>Whisky Johnnie Walker Green Label 750 ml</td>\n",
              "      <td>InStock</td>\n",
              "      <td>BRL</td>\n",
              "      <td>379.91</td>\n",
              "    </tr>\n",
              "    <tr>\n",
              "      <th>5</th>\n",
              "      <td>Glenlivet</td>\n",
              "      <td>Whisky Glenlivet 15 anos 750 ml</td>\n",
              "      <td>InStock</td>\n",
              "      <td>BRL</td>\n",
              "      <td>379.91</td>\n",
              "    </tr>\n",
              "    <tr>\n",
              "      <th>6</th>\n",
              "      <td>Laphroaig</td>\n",
              "      <td>Whisky Laphroaig 10 Anos 750 ml</td>\n",
              "      <td>InStock</td>\n",
              "      <td>BRL</td>\n",
              "      <td>408.41</td>\n",
              "    </tr>\n",
              "    <tr>\n",
              "      <th>7</th>\n",
              "      <td>Macallan</td>\n",
              "      <td>Whisky Macallan Sherry Oak 12 anos 700 ml</td>\n",
              "      <td>InStock</td>\n",
              "      <td>BRL</td>\n",
              "      <td>906.21</td>\n",
              "    </tr>\n",
              "    <tr>\n",
              "      <th>8</th>\n",
              "      <td>Macallan</td>\n",
              "      <td>Whisky The Macallan 18 anos - Double Cask 700 ml</td>\n",
              "      <td>InStock</td>\n",
              "      <td>BRL</td>\n",
              "      <td>3061.76</td>\n",
              "    </tr>\n",
              "  </tbody>\n",
              "</table>\n",
              "</div>\n",
              "      <button class=\"colab-df-convert\" onclick=\"convertToInteractive('df-acd341e8-d386-47e1-830b-1cde94f3aa8e')\"\n",
              "              title=\"Convert this dataframe to an interactive table.\"\n",
              "              style=\"display:none;\">\n",
              "        \n",
              "  <svg xmlns=\"http://www.w3.org/2000/svg\" height=\"24px\"viewBox=\"0 0 24 24\"\n",
              "       width=\"24px\">\n",
              "    <path d=\"M0 0h24v24H0V0z\" fill=\"none\"/>\n",
              "    <path d=\"M18.56 5.44l.94 2.06.94-2.06 2.06-.94-2.06-.94-.94-2.06-.94 2.06-2.06.94zm-11 1L8.5 8.5l.94-2.06 2.06-.94-2.06-.94L8.5 2.5l-.94 2.06-2.06.94zm10 10l.94 2.06.94-2.06 2.06-.94-2.06-.94-.94-2.06-.94 2.06-2.06.94z\"/><path d=\"M17.41 7.96l-1.37-1.37c-.4-.4-.92-.59-1.43-.59-.52 0-1.04.2-1.43.59L10.3 9.45l-7.72 7.72c-.78.78-.78 2.05 0 2.83L4 21.41c.39.39.9.59 1.41.59.51 0 1.02-.2 1.41-.59l7.78-7.78 2.81-2.81c.8-.78.8-2.07 0-2.86zM5.41 20L4 18.59l7.72-7.72 1.47 1.35L5.41 20z\"/>\n",
              "  </svg>\n",
              "      </button>\n",
              "      \n",
              "  <style>\n",
              "    .colab-df-container {\n",
              "      display:flex;\n",
              "      flex-wrap:wrap;\n",
              "      gap: 12px;\n",
              "    }\n",
              "\n",
              "    .colab-df-convert {\n",
              "      background-color: #E8F0FE;\n",
              "      border: none;\n",
              "      border-radius: 50%;\n",
              "      cursor: pointer;\n",
              "      display: none;\n",
              "      fill: #1967D2;\n",
              "      height: 32px;\n",
              "      padding: 0 0 0 0;\n",
              "      width: 32px;\n",
              "    }\n",
              "\n",
              "    .colab-df-convert:hover {\n",
              "      background-color: #E2EBFA;\n",
              "      box-shadow: 0px 1px 2px rgba(60, 64, 67, 0.3), 0px 1px 3px 1px rgba(60, 64, 67, 0.15);\n",
              "      fill: #174EA6;\n",
              "    }\n",
              "\n",
              "    [theme=dark] .colab-df-convert {\n",
              "      background-color: #3B4455;\n",
              "      fill: #D2E3FC;\n",
              "    }\n",
              "\n",
              "    [theme=dark] .colab-df-convert:hover {\n",
              "      background-color: #434B5C;\n",
              "      box-shadow: 0px 1px 3px 1px rgba(0, 0, 0, 0.15);\n",
              "      filter: drop-shadow(0px 1px 2px rgba(0, 0, 0, 0.3));\n",
              "      fill: #FFFFFF;\n",
              "    }\n",
              "  </style>\n",
              "\n",
              "      <script>\n",
              "        const buttonEl =\n",
              "          document.querySelector('#df-acd341e8-d386-47e1-830b-1cde94f3aa8e button.colab-df-convert');\n",
              "        buttonEl.style.display =\n",
              "          google.colab.kernel.accessAllowed ? 'block' : 'none';\n",
              "\n",
              "        async function convertToInteractive(key) {\n",
              "          const element = document.querySelector('#df-acd341e8-d386-47e1-830b-1cde94f3aa8e');\n",
              "          const dataTable =\n",
              "            await google.colab.kernel.invokeFunction('convertToInteractive',\n",
              "                                                     [key], {});\n",
              "          if (!dataTable) return;\n",
              "\n",
              "          const docLinkHtml = 'Like what you see? Visit the ' +\n",
              "            '<a target=\"_blank\" href=https://colab.research.google.com/notebooks/data_table.ipynb>data table notebook</a>'\n",
              "            + ' to learn more about interactive tables.';\n",
              "          element.innerHTML = '';\n",
              "          dataTable['output_type'] = 'display_data';\n",
              "          await google.colab.output.renderOutput(dataTable, element);\n",
              "          const docLink = document.createElement('div');\n",
              "          docLink.innerHTML = docLinkHtml;\n",
              "          element.appendChild(docLink);\n",
              "        }\n",
              "      </script>\n",
              "    </div>\n",
              "  </div>\n",
              "  "
            ]
          },
          "metadata": {},
          "execution_count": 159
        }
      ]
    },
    {
      "cell_type": "code",
      "source": [
        ""
      ],
      "metadata": {
        "id": "kxnYOBkggE2r"
      },
      "execution_count": null,
      "outputs": []
    }
  ]
}