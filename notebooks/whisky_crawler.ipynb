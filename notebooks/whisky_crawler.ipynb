{
 "cells": [
  {
   "cell_type": "code",
   "execution_count": 1,
   "metadata": {
    "id": "kxnYOBkggE2r"
   },
   "outputs": [],
   "source": [
    "import requests\n",
    "import urllib.request\n",
    "import time\n",
    "from bs4 import BeautifulSoup\n",
    "from string import punctuation\n",
    "import numpy as np\n",
    "import pandas as pd\n",
    "import pickle, re\n",
    "from typing import List, Dict, Any\n",
    "import datetime"
   ]
  },
  {
   "cell_type": "code",
   "execution_count": 2,
   "metadata": {},
   "outputs": [],
   "source": [
    "STORES_DICT = {\n",
    "    \"the_bar\": \"The Bar\",\n",
    "    \"casadabebida\": \"Casa da Bebida\"\n",
    "}"
   ]
  },
  {
   "cell_type": "code",
   "execution_count": 3,
   "metadata": {},
   "outputs": [],
   "source": [
    "def get_meta_info(product: str, store: str) -> Dict:\n",
    "  sku = None\n",
    "  brand = None\n",
    "  description = None\n",
    "  availability = None\n",
    "  price_currency = None\n",
    "  price_amount = None\n",
    "  url = None\n",
    "\n",
    "  if all_products[product][store] is not None:\n",
    "    url = all_products[product][store]\n",
    "    response = requests.get(url)\n",
    "    soup = BeautifulSoup(response.text, \"html.parser\")\n",
    "\n",
    "    if store==\"the_bar\":\n",
    "      sku = soup.find(\"meta\", property=\"product:sku\")\n",
    "      brand = soup.find(\"meta\", property=\"product:brand\")\n",
    "      price_currency = soup.find(\"meta\", property=\"product:price:currency\")\n",
    "      availability = soup.find(\"meta\", property=\"product:availability\")\n",
    "      price_amount = soup.find(\"meta\", property=\"product:price:amount\")\n",
    "\n",
    "      sku = sku['content'] if sku else None\n",
    "      brand = brand['content'] if brand else None\n",
    "      price_currency = price_currency['content'] if price_currency else None\n",
    "      availability = availability['content'] if availability else None\n",
    "      price_amount = float(price_amount['content']) if price_amount else None\n",
    "\n",
    "    elif store==\"casadabebida\":\n",
    "      sku = soup.find(itemprop=\"sku\").get_text()\n",
    "      brand = soup.find(itemprop=\"brand\").get_text().strip()\n",
    "\n",
    "      description = soup.find(\"meta\", property=\"og:title\")\n",
    "      description = description['content'] if description else None\n",
    "\n",
    "      price_currency = soup.find(itemprop=\"priceCurrency\").get(\"content\")\n",
    "      availability = soup.find(itemprop=\"availability\").get(\"content\").split(\"/\")[-1]\n",
    "      price_amount = float(soup.find(itemprop=\"price\").get_text())\n",
    "\n",
    "  infos = {\n",
    "      \"sku\": sku, \n",
    "      \"marca\": brand,\n",
    "      \"descricao\": description,\n",
    "      \"disponibilidade\": availability,\n",
    "      \"preco_moeda\": price_currency,\n",
    "      \"preco_valor\": price_amount,\n",
    "      \"loja\": STORES_DICT[store],\n",
    "      \"data\": datetime.datetime.now().isoformat(),\n",
    "      \"url\": url\n",
    "    }\n",
    "  return infos"
   ]
  },
  {
   "cell_type": "code",
   "execution_count": null,
   "metadata": {},
   "outputs": [],
   "source": [
    "all_products = {\n",
    "    \"singleton_12y\": {\n",
    "        \"the_bar\": \"https://br.thebar.com/whisky-singleton-of-dufftown-12-anos--750ml-gre30284/p\",\n",
    "        \"casadabebida\": \"https://www.casadabebida.com.br/whisky/singleton-12-anos-of-glen-ord-700-ml/\",\n",
    "    },\n",
    "    \"glenkinchie_12y\": {\n",
    "        \"the_bar\": \"https://br.thebar.com/whisky-glenkichie-12-anos--750ml-gre30252/p\",\n",
    "        \"casadabebida\": \"https://www.casadabebida.com.br/whisky/glenkinchie-12-anos-750-ml/\"\n",
    "    },\n",
    "    \"glenfiddich_12y\": {\n",
    "        \"the_bar\": None,\n",
    "        \"casadabebida\": \"https://www.casadabebida.com.br/whisky/single-malt/whisky-glenfiddich-12-anos/\"\n",
    "    },\n",
    "    \"talisker_10y\":  {\n",
    "        \"the_bar\": \"https://br.thebar.com/whisky-talisker-10-anos-750ml-gre30290/p\",\n",
    "        \"casadabebida\": \"https://www.casadabebida.com.br/whisky/talisker-10-anos-750-ml/\"\n",
    "    },\n",
    "    \"johnnie_green\": {\n",
    "        \"the_bar\": \"https://br.thebar.com/whisky-johnnie-walker-green-label--750ml-gre30263/p\",\n",
    "        \"casadabebida\": \"https://www.casadabebida.com.br/whisky/whisky-johnnie-walker-green-label/\"\n",
    "    },\n",
    "    \"glenlivet_15y\": {\n",
    "        \"the_bar\": None,\n",
    "        \"casadabebida\": \"https://www.casadabebida.com.br/whisky/glenlivet-15-anos-750-ml/\"\n",
    "    },\n",
    "    \"laphroaig_10y\": {\n",
    "        \"the_bar\": None,\n",
    "        \"casadabebida\": \"https://www.casadabebida.com.br/whisky/whisky-laphroaig-10-anos/\"\n",
    "    },\n",
    "    \"macallan_sherryoak_12y\": {\n",
    "        \"the_bar\": None,\n",
    "        \"casadabebida\": \"https://www.casadabebida.com.br/whisky/macallan-sherry-oak-12-anos-700-ml/\"\n",
    "    },\n",
    "    \"macallan_18y\": {\n",
    "        \"the_bar\": None,\n",
    "        \"casadabebida\": \"https://www.casadabebida.com.br/whisky/whisky-the-macallan-18-anos/\"\n",
    "    }\n",
    "  }"
   ]
  },
  {
   "cell_type": "code",
   "execution_count": null,
   "metadata": {},
   "outputs": [],
   "source": [
    "get_meta_info(\"glenkinchie_12y\", \"casadabebida\")"
   ]
  },
  {
   "cell_type": "code",
   "execution_count": null,
   "metadata": {},
   "outputs": [],
   "source": [
    "data = [get_meta_info(x,'casadabebida') for x in all_products.keys()]"
   ]
  },
  {
   "cell_type": "code",
   "execution_count": null,
   "metadata": {},
   "outputs": [],
   "source": [
    "dataframe = pd.DataFrame(data=data, columns = [\"marca\", \"descricao\", \"disponibilidade\", \"loja\", \"sku\",\"preco_moeda\", \"preco_valor\", \"data\", \"url\"])\n",
    "dataframe"
   ]
  },
  {
   "cell_type": "code",
   "execution_count": null,
   "metadata": {},
   "outputs": [],
   "source": [
    "dataframe.sort_values(by=\"preco_valor\", ascending=True, inplace=True)"
   ]
  },
  {
   "cell_type": "code",
   "execution_count": null,
   "metadata": {},
   "outputs": [],
   "source": [
    "dataframe=dataframe.reset_index(drop=True)"
   ]
  },
  {
   "cell_type": "code",
   "execution_count": null,
   "metadata": {},
   "outputs": [],
   "source": [
    "dataframe"
   ]
  },
  {
   "cell_type": "code",
   "execution_count": null,
   "metadata": {},
   "outputs": [],
   "source": [
    "dataframe = dataframe.set_index('data')"
   ]
  },
  {
   "cell_type": "code",
   "execution_count": null,
   "metadata": {},
   "outputs": [],
   "source": [
    "dataframe"
   ]
  },
  {
   "cell_type": "code",
   "execution_count": null,
   "metadata": {},
   "outputs": [],
   "source": [
    "dataframe.index"
   ]
  },
  {
   "cell_type": "code",
   "execution_count": 5,
   "metadata": {},
   "outputs": [],
   "source": [
    "old_df = pd.read_csv(\"../output/dataframe_casadabebida.csv\", index_col=0, parse_dates=True, infer_datetime_format=True)"
   ]
  },
  {
   "cell_type": "code",
   "execution_count": 6,
   "metadata": {},
   "outputs": [
    {
     "data": {
      "text/html": [
       "<div>\n",
       "<style scoped>\n",
       "    .dataframe tbody tr th:only-of-type {\n",
       "        vertical-align: middle;\n",
       "    }\n",
       "\n",
       "    .dataframe tbody tr th {\n",
       "        vertical-align: top;\n",
       "    }\n",
       "\n",
       "    .dataframe thead th {\n",
       "        text-align: right;\n",
       "    }\n",
       "</style>\n",
       "<table border=\"1\" class=\"dataframe\">\n",
       "  <thead>\n",
       "    <tr style=\"text-align: right;\">\n",
       "      <th></th>\n",
       "      <th>marca</th>\n",
       "      <th>descricao</th>\n",
       "      <th>disponibilidade</th>\n",
       "      <th>loja</th>\n",
       "      <th>sku</th>\n",
       "      <th>preco_moeda</th>\n",
       "      <th>preco_valor</th>\n",
       "      <th>url</th>\n",
       "    </tr>\n",
       "    <tr>\n",
       "      <th>data</th>\n",
       "      <th></th>\n",
       "      <th></th>\n",
       "      <th></th>\n",
       "      <th></th>\n",
       "      <th></th>\n",
       "      <th></th>\n",
       "      <th></th>\n",
       "      <th></th>\n",
       "    </tr>\n",
       "  </thead>\n",
       "  <tbody>\n",
       "    <tr>\n",
       "      <th>2022-04-01 11:56:16.482897</th>\n",
       "      <td>Johnnie Walker</td>\n",
       "      <td>Whisky Johnnie Walker Green Label 750 ml</td>\n",
       "      <td>InStock</td>\n",
       "      <td>Casa da Bebida</td>\n",
       "      <td>15</td>\n",
       "      <td>BRL</td>\n",
       "      <td>379.91</td>\n",
       "      <td>https://www.casadabebida.com.br/whisky/whisky-...</td>\n",
       "    </tr>\n",
       "    <tr>\n",
       "      <th>2022-04-01 11:56:17.251146</th>\n",
       "      <td>Glenlivet</td>\n",
       "      <td>Whisky Glenlivet 15 anos 750 ml</td>\n",
       "      <td>InStock</td>\n",
       "      <td>Casa da Bebida</td>\n",
       "      <td>1139</td>\n",
       "      <td>BRL</td>\n",
       "      <td>379.91</td>\n",
       "      <td>https://www.casadabebida.com.br/whisky/glenliv...</td>\n",
       "    </tr>\n",
       "    <tr>\n",
       "      <th>2022-04-01 11:56:17.946285</th>\n",
       "      <td>Laphroaig</td>\n",
       "      <td>Whisky Laphroaig 10 Anos 750 ml</td>\n",
       "      <td>InStock</td>\n",
       "      <td>Casa da Bebida</td>\n",
       "      <td>750</td>\n",
       "      <td>BRL</td>\n",
       "      <td>398.91</td>\n",
       "      <td>https://www.casadabebida.com.br/whisky/whisky-...</td>\n",
       "    </tr>\n",
       "    <tr>\n",
       "      <th>2022-04-01 11:56:18.780784</th>\n",
       "      <td>Macallan</td>\n",
       "      <td>Whisky Macallan Sherry Oak 12 anos 700 ml</td>\n",
       "      <td>InStock</td>\n",
       "      <td>Casa da Bebida</td>\n",
       "      <td>2744</td>\n",
       "      <td>BRL</td>\n",
       "      <td>906.21</td>\n",
       "      <td>https://www.casadabebida.com.br/whisky/macalla...</td>\n",
       "    </tr>\n",
       "    <tr>\n",
       "      <th>2022-04-01 11:56:19.503811</th>\n",
       "      <td>Macallan</td>\n",
       "      <td>Whisky The Macallan 18 anos - Double Cask 700 ml</td>\n",
       "      <td>InStock</td>\n",
       "      <td>Casa da Bebida</td>\n",
       "      <td>226</td>\n",
       "      <td>BRL</td>\n",
       "      <td>3061.76</td>\n",
       "      <td>https://www.casadabebida.com.br/whisky/whisky-...</td>\n",
       "    </tr>\n",
       "  </tbody>\n",
       "</table>\n",
       "</div>"
      ],
      "text/plain": [
       "                                     marca  \\\n",
       "data                                         \n",
       "2022-04-01 11:56:16.482897  Johnnie Walker   \n",
       "2022-04-01 11:56:17.251146       Glenlivet   \n",
       "2022-04-01 11:56:17.946285       Laphroaig   \n",
       "2022-04-01 11:56:18.780784        Macallan   \n",
       "2022-04-01 11:56:19.503811        Macallan   \n",
       "\n",
       "                                                                   descricao  \\\n",
       "data                                                                           \n",
       "2022-04-01 11:56:16.482897          Whisky Johnnie Walker Green Label 750 ml   \n",
       "2022-04-01 11:56:17.251146                   Whisky Glenlivet 15 anos 750 ml   \n",
       "2022-04-01 11:56:17.946285                   Whisky Laphroaig 10 Anos 750 ml   \n",
       "2022-04-01 11:56:18.780784         Whisky Macallan Sherry Oak 12 anos 700 ml   \n",
       "2022-04-01 11:56:19.503811  Whisky The Macallan 18 anos - Double Cask 700 ml   \n",
       "\n",
       "                           disponibilidade            loja   sku preco_moeda  \\\n",
       "data                                                                           \n",
       "2022-04-01 11:56:16.482897         InStock  Casa da Bebida    15         BRL   \n",
       "2022-04-01 11:56:17.251146         InStock  Casa da Bebida  1139         BRL   \n",
       "2022-04-01 11:56:17.946285         InStock  Casa da Bebida   750         BRL   \n",
       "2022-04-01 11:56:18.780784         InStock  Casa da Bebida  2744         BRL   \n",
       "2022-04-01 11:56:19.503811         InStock  Casa da Bebida   226         BRL   \n",
       "\n",
       "                            preco_valor  \\\n",
       "data                                      \n",
       "2022-04-01 11:56:16.482897       379.91   \n",
       "2022-04-01 11:56:17.251146       379.91   \n",
       "2022-04-01 11:56:17.946285       398.91   \n",
       "2022-04-01 11:56:18.780784       906.21   \n",
       "2022-04-01 11:56:19.503811      3061.76   \n",
       "\n",
       "                                                                          url  \n",
       "data                                                                           \n",
       "2022-04-01 11:56:16.482897  https://www.casadabebida.com.br/whisky/whisky-...  \n",
       "2022-04-01 11:56:17.251146  https://www.casadabebida.com.br/whisky/glenliv...  \n",
       "2022-04-01 11:56:17.946285  https://www.casadabebida.com.br/whisky/whisky-...  \n",
       "2022-04-01 11:56:18.780784  https://www.casadabebida.com.br/whisky/macalla...  \n",
       "2022-04-01 11:56:19.503811  https://www.casadabebida.com.br/whisky/whisky-...  "
      ]
     },
     "execution_count": 6,
     "metadata": {},
     "output_type": "execute_result"
    }
   ],
   "source": [
    "old_df.tail()"
   ]
  },
  {
   "cell_type": "code",
   "execution_count": 7,
   "metadata": {},
   "outputs": [],
   "source": [
    "import altair as alt\n"
   ]
  },
  {
   "cell_type": "code",
   "execution_count": 8,
   "metadata": {},
   "outputs": [],
   "source": [
    "# import altair as alt\n",
    "# from vega_datasets import data\n",
    "# #alt.renderers.enable('altair_saver', fmts=['vega-lite', 'png'])\n",
    "\n",
    "# temps = data.seattle_temps()\n",
    "# temps.head()"
   ]
  },
  {
   "cell_type": "code",
   "execution_count": 9,
   "metadata": {},
   "outputs": [],
   "source": [
    "#emps.date[0]"
   ]
  },
  {
   "cell_type": "code",
   "execution_count": 10,
   "metadata": {},
   "outputs": [],
   "source": [
    "# temps = temps[temps.date < '2010-01-15']\n",
    "\n",
    "\n",
    "# alt.Chart(temps).mark_line().encode(\n",
    "#     x='date:T',\n",
    "#     y='temp:Q'\n",
    "# )"
   ]
  },
  {
   "cell_type": "code",
   "execution_count": 11,
   "metadata": {},
   "outputs": [],
   "source": [
    "# alt.Chart(plot_df).mark_line().encode(\n",
    "#     x='data:T',\n",
    "#     y='preco_valor:Q'\n",
    "# )"
   ]
  },
  {
   "cell_type": "code",
   "execution_count": 12,
   "metadata": {},
   "outputs": [
    {
     "data": {
      "text/html": [
       "<div>\n",
       "<style scoped>\n",
       "    .dataframe tbody tr th:only-of-type {\n",
       "        vertical-align: middle;\n",
       "    }\n",
       "\n",
       "    .dataframe tbody tr th {\n",
       "        vertical-align: top;\n",
       "    }\n",
       "\n",
       "    .dataframe thead th {\n",
       "        text-align: right;\n",
       "    }\n",
       "</style>\n",
       "<table border=\"1\" class=\"dataframe\">\n",
       "  <thead>\n",
       "    <tr style=\"text-align: right;\">\n",
       "      <th></th>\n",
       "      <th>data</th>\n",
       "      <th>marca</th>\n",
       "      <th>preco_valor</th>\n",
       "    </tr>\n",
       "  </thead>\n",
       "  <tbody>\n",
       "    <tr>\n",
       "      <th>0</th>\n",
       "      <td>2022-04-01 11:56:13.450845</td>\n",
       "      <td>Singleton</td>\n",
       "      <td>189.91</td>\n",
       "    </tr>\n",
       "    <tr>\n",
       "      <th>1</th>\n",
       "      <td>2022-04-01 11:56:14.943618</td>\n",
       "      <td>Glenfiddich</td>\n",
       "      <td>284.91</td>\n",
       "    </tr>\n",
       "    <tr>\n",
       "      <th>2</th>\n",
       "      <td>2022-04-01 11:56:14.191140</td>\n",
       "      <td>Glenkinchie</td>\n",
       "      <td>351.41</td>\n",
       "    </tr>\n",
       "    <tr>\n",
       "      <th>3</th>\n",
       "      <td>2022-04-01 11:56:15.728990</td>\n",
       "      <td>Talisker</td>\n",
       "      <td>379.91</td>\n",
       "    </tr>\n",
       "    <tr>\n",
       "      <th>4</th>\n",
       "      <td>2022-04-01 11:56:16.482897</td>\n",
       "      <td>Johnnie Walker</td>\n",
       "      <td>379.91</td>\n",
       "    </tr>\n",
       "    <tr>\n",
       "      <th>5</th>\n",
       "      <td>2022-04-01 11:56:17.251146</td>\n",
       "      <td>Glenlivet</td>\n",
       "      <td>379.91</td>\n",
       "    </tr>\n",
       "    <tr>\n",
       "      <th>6</th>\n",
       "      <td>2022-04-01 11:56:17.946285</td>\n",
       "      <td>Laphroaig</td>\n",
       "      <td>398.91</td>\n",
       "    </tr>\n",
       "    <tr>\n",
       "      <th>7</th>\n",
       "      <td>2022-04-01 11:56:18.780784</td>\n",
       "      <td>Macallan</td>\n",
       "      <td>906.21</td>\n",
       "    </tr>\n",
       "    <tr>\n",
       "      <th>8</th>\n",
       "      <td>2022-04-01 11:56:19.503811</td>\n",
       "      <td>Macallan</td>\n",
       "      <td>3061.76</td>\n",
       "    </tr>\n",
       "  </tbody>\n",
       "</table>\n",
       "</div>"
      ],
      "text/plain": [
       "                        data           marca  preco_valor\n",
       "0 2022-04-01 11:56:13.450845       Singleton       189.91\n",
       "1 2022-04-01 11:56:14.943618     Glenfiddich       284.91\n",
       "2 2022-04-01 11:56:14.191140     Glenkinchie       351.41\n",
       "3 2022-04-01 11:56:15.728990        Talisker       379.91\n",
       "4 2022-04-01 11:56:16.482897  Johnnie Walker       379.91\n",
       "5 2022-04-01 11:56:17.251146       Glenlivet       379.91\n",
       "6 2022-04-01 11:56:17.946285       Laphroaig       398.91\n",
       "7 2022-04-01 11:56:18.780784        Macallan       906.21\n",
       "8 2022-04-01 11:56:19.503811        Macallan      3061.76"
      ]
     },
     "execution_count": 12,
     "metadata": {},
     "output_type": "execute_result"
    }
   ],
   "source": [
    "plot_df = old_df.reset_index()\n",
    "plot_df = plot_df[[\"data\", \"marca\", \"preco_valor\"]]\n",
    "plot_df"
   ]
  },
  {
   "cell_type": "code",
   "execution_count": 13,
   "metadata": {},
   "outputs": [
    {
     "data": {
      "text/plain": [
       "Timestamp('2022-04-01 11:56:13.450845')"
      ]
     },
     "execution_count": 13,
     "metadata": {},
     "output_type": "execute_result"
    }
   ],
   "source": [
    "plot_df.data[0]"
   ]
  },
  {
   "cell_type": "code",
   "execution_count": 15,
   "metadata": {},
   "outputs": [
    {
     "data": {
      "text/html": [
       "\n",
       "<div id=\"altair-viz-c56fdc8591ac48bc99967bd1756bc8fd\"></div>\n",
       "<script type=\"text/javascript\">\n",
       "  (function(spec, embedOpt){\n",
       "    let outputDiv = document.currentScript.previousElementSibling;\n",
       "    if (outputDiv.id !== \"altair-viz-c56fdc8591ac48bc99967bd1756bc8fd\") {\n",
       "      outputDiv = document.getElementById(\"altair-viz-c56fdc8591ac48bc99967bd1756bc8fd\");\n",
       "    }\n",
       "    const paths = {\n",
       "      \"vega\": \"https://cdn.jsdelivr.net/npm//vega@5?noext\",\n",
       "      \"vega-lib\": \"https://cdn.jsdelivr.net/npm//vega-lib?noext\",\n",
       "      \"vega-lite\": \"https://cdn.jsdelivr.net/npm//vega-lite@4.8.1?noext\",\n",
       "      \"vega-embed\": \"https://cdn.jsdelivr.net/npm//vega-embed@6?noext\",\n",
       "    };\n",
       "\n",
       "    function loadScript(lib) {\n",
       "      return new Promise(function(resolve, reject) {\n",
       "        var s = document.createElement('script');\n",
       "        s.src = paths[lib];\n",
       "        s.async = true;\n",
       "        s.onload = () => resolve(paths[lib]);\n",
       "        s.onerror = () => reject(`Error loading script: ${paths[lib]}`);\n",
       "        document.getElementsByTagName(\"head\")[0].appendChild(s);\n",
       "      });\n",
       "    }\n",
       "\n",
       "    function showError(err) {\n",
       "      outputDiv.innerHTML = `<div class=\"error\" style=\"color:red;\">${err}</div>`;\n",
       "      throw err;\n",
       "    }\n",
       "\n",
       "    function displayChart(vegaEmbed) {\n",
       "      vegaEmbed(outputDiv, spec, embedOpt)\n",
       "        .catch(err => showError(`Javascript Error: ${err.message}<br>This usually means there's a typo in your chart specification. See the javascript console for the full traceback.`));\n",
       "    }\n",
       "\n",
       "    if(typeof define === \"function\" && define.amd) {\n",
       "      requirejs.config({paths});\n",
       "      require([\"vega-embed\"], displayChart, err => showError(`Error loading script: ${err.message}`));\n",
       "    } else if (typeof vegaEmbed === \"function\") {\n",
       "      displayChart(vegaEmbed);\n",
       "    } else {\n",
       "      loadScript(\"vega\")\n",
       "        .then(() => loadScript(\"vega-lite\"))\n",
       "        .then(() => loadScript(\"vega-embed\"))\n",
       "        .catch(showError)\n",
       "        .then(() => displayChart(vegaEmbed));\n",
       "    }\n",
       "  })({\"config\": {\"view\": {\"continuousWidth\": 400, \"continuousHeight\": 300}}, \"data\": {\"name\": \"data-99f7aad180311a5932d669f0593d5d98\"}, \"mark\": \"line\", \"encoding\": {\"color\": {\"type\": \"nominal\", \"field\": \"marca\"}, \"x\": {\"type\": \"temporal\", \"field\": \"data\"}, \"y\": {\"type\": \"quantitative\", \"field\": \"preco_valor\"}}, \"height\": 320, \"title\": \"Whisky Price Trends\", \"width\": 840, \"$schema\": \"https://vega.github.io/schema/vega-lite/v4.8.1.json\", \"datasets\": {\"data-99f7aad180311a5932d669f0593d5d98\": [{\"data\": \"2022-04-01T11:56:13.450845\", \"marca\": \"Singleton\", \"preco_valor\": 189.91}, {\"data\": \"2022-04-01T11:56:14.943618\", \"marca\": \"Glenfiddich\", \"preco_valor\": 284.91}, {\"data\": \"2022-04-01T11:56:14.191140\", \"marca\": \"Glenkinchie\", \"preco_valor\": 351.41}, {\"data\": \"2022-04-01T11:56:15.728990\", \"marca\": \"Talisker\", \"preco_valor\": 379.91}, {\"data\": \"2022-04-01T11:56:16.482897\", \"marca\": \"Johnnie Walker\", \"preco_valor\": 379.91}, {\"data\": \"2022-04-01T11:56:17.251146\", \"marca\": \"Glenlivet\", \"preco_valor\": 379.91}, {\"data\": \"2022-04-01T11:56:17.946285\", \"marca\": \"Laphroaig\", \"preco_valor\": 398.91}, {\"data\": \"2022-04-01T11:56:18.780784\", \"marca\": \"Macallan\", \"preco_valor\": 906.21}, {\"data\": \"2022-04-01T11:56:19.503811\", \"marca\": \"Macallan\", \"preco_valor\": 3061.76}]}}, {\"mode\": \"vega-lite\"});\n",
       "</script>"
      ],
      "text/plain": [
       "alt.Chart(...)"
      ]
     },
     "execution_count": 15,
     "metadata": {},
     "output_type": "execute_result"
    }
   ],
   "source": [
    "chart = alt.Chart(plot_df).mark_line().encode(\n",
    "    x='data:T',\n",
    "    y='preco_valor:Q',\n",
    "    color='marca'\n",
    ").properties(\n",
    "    title=\"Whisky Price Trends\",\n",
    "    width=840,\n",
    "    height=320,\n",
    ")\n",
    "chart"
   ]
  },
  {
   "cell_type": "code",
   "execution_count": 17,
   "metadata": {},
   "outputs": [
    {
     "data": {
      "text/plain": [
       "RendererRegistry.enable('altair_saver')"
      ]
     },
     "execution_count": 17,
     "metadata": {},
     "output_type": "execute_result"
    }
   ],
   "source": [
    "from altair_saver import save\n",
    "alt.renderers.enable('altair_saver', fmts=['vega-lite', 'png'])"
   ]
  },
  {
   "cell_type": "code",
   "execution_count": 18,
   "metadata": {},
   "outputs": [
    {
     "name": "stderr",
     "output_type": "stream",
     "text": [
      "/Users/rsilvei/node_modules/vega-label/build/vega-label.js:593\n",
      "      let textWidth = d.textWidth ?? 0,\n",
      "                                   ^\n",
      "\n",
      "SyntaxError: Unexpected token '?'\n",
      "    at wrapSafe (internal/modules/cjs/loader.js:915:16)\n",
      "    at Module._compile (internal/modules/cjs/loader.js:963:27)\n",
      "    at Object.Module._extensions..js (internal/modules/cjs/loader.js:1027:10)\n",
      "    at Module.load (internal/modules/cjs/loader.js:863:32)\n",
      "    at Function.Module._load (internal/modules/cjs/loader.js:708:14)\n",
      "    at Module.require (internal/modules/cjs/loader.js:887:19)\n",
      "    at require (internal/modules/cjs/helpers.js:74:18)\n",
      "    at Object.<anonymous> (/Users/rsilvei/node_modules/vega/build/vega-node.js:13:13)\n",
      "    at Module._compile (internal/modules/cjs/loader.js:999:30)\n",
      "    at Object.Module._extensions..js (internal/modules/cjs/loader.js:1027:10)\n"
     ]
    },
    {
     "ename": "CalledProcessError",
     "evalue": "Command '['/Users/rsilvei/node_modules/.bin/vl2vg']' returned non-zero exit status 1.",
     "output_type": "error",
     "traceback": [
      "\u001b[0;31m---------------------------------------------------------------------------\u001b[0m",
      "\u001b[0;31mCalledProcessError\u001b[0m                        Traceback (most recent call last)",
      "\u001b[0;32m<ipython-input-18-2d158966419e>\u001b[0m in \u001b[0;36m<module>\u001b[0;34m\u001b[0m\n\u001b[0;32m----> 1\u001b[0;31m \u001b[0msave\u001b[0m\u001b[0;34m(\u001b[0m\u001b[0mchart\u001b[0m\u001b[0;34m,\u001b[0m \u001b[0;34m\"chart_1.png\"\u001b[0m\u001b[0;34m)\u001b[0m\u001b[0;34m\u001b[0m\u001b[0;34m\u001b[0m\u001b[0m\n\u001b[0m",
      "\u001b[0;32m~/.pyenv/versions/3.7.2/envs/torch/lib/python3.7/site-packages/altair_saver/_core.py\u001b[0m in \u001b[0;36msave\u001b[0;34m(chart, fp, fmt, mode, embed_options, method, suppress_data_warning, **kwargs)\u001b[0m\n\u001b[1;32m    170\u001b[0m     \u001b[0msaver\u001b[0m \u001b[0;34m=\u001b[0m \u001b[0mSaver\u001b[0m\u001b[0;34m(\u001b[0m\u001b[0mspec\u001b[0m\u001b[0;34m,\u001b[0m \u001b[0mmode\u001b[0m\u001b[0;34m=\u001b[0m\u001b[0mmode\u001b[0m\u001b[0;34m,\u001b[0m \u001b[0membed_options\u001b[0m\u001b[0;34m=\u001b[0m\u001b[0membed_options\u001b[0m\u001b[0;34m,\u001b[0m \u001b[0;34m**\u001b[0m\u001b[0mkwargs\u001b[0m\u001b[0;34m)\u001b[0m\u001b[0;34m\u001b[0m\u001b[0;34m\u001b[0m\u001b[0m\n\u001b[1;32m    171\u001b[0m \u001b[0;34m\u001b[0m\u001b[0m\n\u001b[0;32m--> 172\u001b[0;31m     \u001b[0;32mreturn\u001b[0m \u001b[0msaver\u001b[0m\u001b[0;34m.\u001b[0m\u001b[0msave\u001b[0m\u001b[0;34m(\u001b[0m\u001b[0mfp\u001b[0m\u001b[0;34m=\u001b[0m\u001b[0mfp\u001b[0m\u001b[0;34m,\u001b[0m \u001b[0mfmt\u001b[0m\u001b[0;34m=\u001b[0m\u001b[0mfmt\u001b[0m\u001b[0;34m)\u001b[0m\u001b[0;34m\u001b[0m\u001b[0;34m\u001b[0m\u001b[0m\n\u001b[0m\u001b[1;32m    173\u001b[0m \u001b[0;34m\u001b[0m\u001b[0m\n\u001b[1;32m    174\u001b[0m \u001b[0;34m\u001b[0m\u001b[0m\n",
      "\u001b[0;32m~/.pyenv/versions/3.7.2/envs/torch/lib/python3.7/site-packages/altair_saver/savers/_saver.py\u001b[0m in \u001b[0;36msave\u001b[0;34m(self, fp, fmt)\u001b[0m\n\u001b[1;32m    119\u001b[0m             \u001b[0;32mraise\u001b[0m \u001b[0mValueError\u001b[0m\u001b[0;34m(\u001b[0m\u001b[0;34mf\"Got fmt={fmt}; expected one of {self.valid_formats}\"\u001b[0m\u001b[0;34m)\u001b[0m\u001b[0;34m\u001b[0m\u001b[0;34m\u001b[0m\u001b[0m\n\u001b[1;32m    120\u001b[0m \u001b[0;34m\u001b[0m\u001b[0m\n\u001b[0;32m--> 121\u001b[0;31m         \u001b[0mcontent\u001b[0m \u001b[0;34m=\u001b[0m \u001b[0mself\u001b[0m\u001b[0;34m.\u001b[0m\u001b[0m_serialize\u001b[0m\u001b[0;34m(\u001b[0m\u001b[0mfmt\u001b[0m\u001b[0;34m,\u001b[0m \u001b[0;34m\"save\"\u001b[0m\u001b[0;34m)\u001b[0m\u001b[0;34m\u001b[0m\u001b[0;34m\u001b[0m\u001b[0m\n\u001b[0m\u001b[1;32m    122\u001b[0m         \u001b[0;32mif\u001b[0m \u001b[0mfp\u001b[0m \u001b[0;32mis\u001b[0m \u001b[0;32mNone\u001b[0m\u001b[0;34m:\u001b[0m\u001b[0;34m\u001b[0m\u001b[0;34m\u001b[0m\u001b[0m\n\u001b[1;32m    123\u001b[0m             \u001b[0;32mif\u001b[0m \u001b[0misinstance\u001b[0m\u001b[0;34m(\u001b[0m\u001b[0mcontent\u001b[0m\u001b[0;34m,\u001b[0m \u001b[0mdict\u001b[0m\u001b[0;34m)\u001b[0m\u001b[0;34m:\u001b[0m\u001b[0;34m\u001b[0m\u001b[0;34m\u001b[0m\u001b[0m\n",
      "\u001b[0;32m~/.pyenv/versions/3.7.2/envs/torch/lib/python3.7/site-packages/altair_saver/savers/_node.py\u001b[0m in \u001b[0;36m_serialize\u001b[0;34m(self, fmt, content_type)\u001b[0m\n\u001b[1;32m    112\u001b[0m \u001b[0;34m\u001b[0m\u001b[0m\n\u001b[1;32m    113\u001b[0m         \u001b[0;32mif\u001b[0m \u001b[0mself\u001b[0m\u001b[0;34m.\u001b[0m\u001b[0m_mode\u001b[0m \u001b[0;34m==\u001b[0m \u001b[0;34m\"vega-lite\"\u001b[0m\u001b[0;34m:\u001b[0m\u001b[0;34m\u001b[0m\u001b[0;34m\u001b[0m\u001b[0m\n\u001b[0;32m--> 114\u001b[0;31m             \u001b[0mspec\u001b[0m \u001b[0;34m=\u001b[0m \u001b[0mself\u001b[0m\u001b[0;34m.\u001b[0m\u001b[0m_vl2vg\u001b[0m\u001b[0;34m(\u001b[0m\u001b[0mspec\u001b[0m\u001b[0;34m)\u001b[0m\u001b[0;34m\u001b[0m\u001b[0;34m\u001b[0m\u001b[0m\n\u001b[0m\u001b[1;32m    115\u001b[0m \u001b[0;34m\u001b[0m\u001b[0m\n\u001b[1;32m    116\u001b[0m         \u001b[0;32mif\u001b[0m \u001b[0mfmt\u001b[0m \u001b[0;34m==\u001b[0m \u001b[0;34m\"vega\"\u001b[0m\u001b[0;34m:\u001b[0m\u001b[0;34m\u001b[0m\u001b[0;34m\u001b[0m\u001b[0m\n",
      "\u001b[0;32m~/.pyenv/versions/3.7.2/envs/torch/lib/python3.7/site-packages/altair_saver/savers/_node.py\u001b[0m in \u001b[0;36m_vl2vg\u001b[0;34m(self, spec)\u001b[0m\n\u001b[1;32m     64\u001b[0m         \u001b[0mvl_json\u001b[0m \u001b[0;34m=\u001b[0m \u001b[0mjson\u001b[0m\u001b[0;34m.\u001b[0m\u001b[0mdumps\u001b[0m\u001b[0;34m(\u001b[0m\u001b[0mspec\u001b[0m\u001b[0;34m)\u001b[0m\u001b[0;34m.\u001b[0m\u001b[0mencode\u001b[0m\u001b[0;34m(\u001b[0m\u001b[0;34m)\u001b[0m\u001b[0;34m\u001b[0m\u001b[0;34m\u001b[0m\u001b[0m\n\u001b[1;32m     65\u001b[0m         vg_json = check_output_with_stderr(\n\u001b[0;32m---> 66\u001b[0;31m             \u001b[0;34m[\u001b[0m\u001b[0mvl2vg\u001b[0m\u001b[0;34m]\u001b[0m\u001b[0;34m,\u001b[0m \u001b[0minput\u001b[0m\u001b[0;34m=\u001b[0m\u001b[0mvl_json\u001b[0m\u001b[0;34m,\u001b[0m \u001b[0mstderr_filter\u001b[0m\u001b[0;34m=\u001b[0m\u001b[0mself\u001b[0m\u001b[0;34m.\u001b[0m\u001b[0m_stderr_filter\u001b[0m\u001b[0;34m\u001b[0m\u001b[0;34m\u001b[0m\u001b[0m\n\u001b[0m\u001b[1;32m     67\u001b[0m         )\n\u001b[1;32m     68\u001b[0m         \u001b[0;32mreturn\u001b[0m \u001b[0mjson\u001b[0m\u001b[0;34m.\u001b[0m\u001b[0mloads\u001b[0m\u001b[0;34m(\u001b[0m\u001b[0mvg_json\u001b[0m\u001b[0;34m)\u001b[0m\u001b[0;34m\u001b[0m\u001b[0;34m\u001b[0m\u001b[0m\n",
      "\u001b[0;32m~/.pyenv/versions/3.7.2/envs/torch/lib/python3.7/site-packages/altair_saver/_utils.py\u001b[0m in \u001b[0;36mcheck_output_with_stderr\u001b[0;34m(cmd, shell, input, stderr_filter)\u001b[0m\n\u001b[1;32m    202\u001b[0m             \u001b[0mcheck\u001b[0m\u001b[0;34m=\u001b[0m\u001b[0;32mTrue\u001b[0m\u001b[0;34m,\u001b[0m\u001b[0;34m\u001b[0m\u001b[0;34m\u001b[0m\u001b[0m\n\u001b[1;32m    203\u001b[0m             \u001b[0mstdout\u001b[0m\u001b[0;34m=\u001b[0m\u001b[0msubprocess\u001b[0m\u001b[0;34m.\u001b[0m\u001b[0mPIPE\u001b[0m\u001b[0;34m,\u001b[0m\u001b[0;34m\u001b[0m\u001b[0;34m\u001b[0m\u001b[0m\n\u001b[0;32m--> 204\u001b[0;31m             \u001b[0mstderr\u001b[0m\u001b[0;34m=\u001b[0m\u001b[0msubprocess\u001b[0m\u001b[0;34m.\u001b[0m\u001b[0mPIPE\u001b[0m\u001b[0;34m,\u001b[0m\u001b[0;34m\u001b[0m\u001b[0;34m\u001b[0m\u001b[0m\n\u001b[0m\u001b[1;32m    205\u001b[0m         )\n\u001b[1;32m    206\u001b[0m     \u001b[0;32mexcept\u001b[0m \u001b[0msubprocess\u001b[0m\u001b[0;34m.\u001b[0m\u001b[0mCalledProcessError\u001b[0m \u001b[0;32mas\u001b[0m \u001b[0merr\u001b[0m\u001b[0;34m:\u001b[0m\u001b[0;34m\u001b[0m\u001b[0;34m\u001b[0m\u001b[0m\n",
      "\u001b[0;32m~/.pyenv/versions/3.7.2/lib/python3.7/subprocess.py\u001b[0m in \u001b[0;36mrun\u001b[0;34m(input, capture_output, timeout, check, *popenargs, **kwargs)\u001b[0m\n\u001b[1;32m    485\u001b[0m         \u001b[0;32mif\u001b[0m \u001b[0mcheck\u001b[0m \u001b[0;32mand\u001b[0m \u001b[0mretcode\u001b[0m\u001b[0;34m:\u001b[0m\u001b[0;34m\u001b[0m\u001b[0;34m\u001b[0m\u001b[0m\n\u001b[1;32m    486\u001b[0m             raise CalledProcessError(retcode, process.args,\n\u001b[0;32m--> 487\u001b[0;31m                                      output=stdout, stderr=stderr)\n\u001b[0m\u001b[1;32m    488\u001b[0m     \u001b[0;32mreturn\u001b[0m \u001b[0mCompletedProcess\u001b[0m\u001b[0;34m(\u001b[0m\u001b[0mprocess\u001b[0m\u001b[0;34m.\u001b[0m\u001b[0margs\u001b[0m\u001b[0;34m,\u001b[0m \u001b[0mretcode\u001b[0m\u001b[0;34m,\u001b[0m \u001b[0mstdout\u001b[0m\u001b[0;34m,\u001b[0m \u001b[0mstderr\u001b[0m\u001b[0;34m)\u001b[0m\u001b[0;34m\u001b[0m\u001b[0;34m\u001b[0m\u001b[0m\n\u001b[1;32m    489\u001b[0m \u001b[0;34m\u001b[0m\u001b[0m\n",
      "\u001b[0;31mCalledProcessError\u001b[0m: Command '['/Users/rsilvei/node_modules/.bin/vl2vg']' returned non-zero exit status 1."
     ]
    }
   ],
   "source": [
    "save(chart, \"chart_1.png\") "
   ]
  },
  {
   "cell_type": "code",
   "execution_count": null,
   "metadata": {},
   "outputs": [],
   "source": []
  },
  {
   "cell_type": "code",
   "execution_count": null,
   "metadata": {},
   "outputs": [],
   "source": [
    "chart.save('chart_whisky.png')"
   ]
  },
  {
   "cell_type": "code",
   "execution_count": null,
   "metadata": {},
   "outputs": [],
   "source": []
  }
 ],
 "metadata": {
  "colab": {
   "collapsed_sections": [],
   "name": "whisky_crawler.ipynb",
   "provenance": []
  },
  "kernelspec": {
   "display_name": "Python 3",
   "language": "python",
   "name": "python3"
  },
  "language_info": {
   "codemirror_mode": {
    "name": "ipython",
    "version": 3
   },
   "file_extension": ".py",
   "mimetype": "text/x-python",
   "name": "python",
   "nbconvert_exporter": "python",
   "pygments_lexer": "ipython3",
   "version": "3.7.2"
  }
 },
 "nbformat": 4,
 "nbformat_minor": 4
}
